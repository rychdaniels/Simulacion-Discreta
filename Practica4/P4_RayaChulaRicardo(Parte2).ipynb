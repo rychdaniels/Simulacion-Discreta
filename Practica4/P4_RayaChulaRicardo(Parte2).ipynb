{
 "cells": [
  {
   "cell_type": "code",
   "execution_count": 1,
   "metadata": {},
   "outputs": [
    {
     "name": "stdout",
     "output_type": "stream",
     "text": [
      "****************** Arreglo de resultados ******************\n",
      "0.9460117616030523\n",
      "0.5881778446326893\n",
      "0.7464602412679676\n",
      "0.5159732570961143\n",
      "0.6179914693721145\n",
      "0.8063729753559343\n",
      "0.5402322390369461\n",
      "0.1289553020502576\n",
      "0.12630589385468788\n",
      "0.8340088097164038\n",
      "0.4897605109400923\n",
      "0.46565912066091697\n",
      "0.7721538223279987\n",
      "0.014389866964770992\n",
      "0.7114105361245577\n"
     ]
    }
   ],
   "source": [
    "######################################################################################\n",
    "#    Ricardo Raya Chula                                                              #\n",
    "#    Descripción: SEGUNDA PARTE de la practica para generar numeros aleatorios       #\n",
    "#                 mediante el metodo MRG32k3a                                        #\n",
    "######################################################################################\n",
    "\n",
    "\n",
    "# Semillas de S1\n",
    "z10 = 411040508 #Semilla Z10\n",
    "z11 = 544377427 #Semilla Z11\n",
    "z12 = 2887694751 #Semilla Z12\n",
    "\n",
    "# Semillas de S2\n",
    "z20 = 702892456 #Semilla Z20\n",
    "z21 = 758163486 #Semilla Z21\n",
    "z22 = 2462939166 #Semilla Z22\n",
    "\n",
    "\n",
    "m1 = 4294967087\n",
    "m2 = 4294944443\n",
    "\n",
    "arrResta = []\n",
    "arrZ1 = 0\n",
    "arrZ2 = 0\n",
    "\n",
    "def GCL1():\n",
    "    global z10, z11, z12, m1\n",
    "    z1i =  (1403580 * z11 - 810728 * z10) % m1    \n",
    "    z10 = z11\n",
    "    z11 = z12\n",
    "    z12 = z1i   \n",
    "    return z1i\n",
    "\n",
    "\n",
    "def GCL2():\n",
    "    global z20, z21, z22,m2\n",
    "    z2i = (527612 * z22 - 1370589 * z20) % m2\n",
    "    z20 = z21\n",
    "    z21 = z22\n",
    "    z22 = z2i\n",
    "    return z2i\n",
    "\n",
    "\n",
    "\n",
    "#####   GCLCCompuesto  ######\n",
    "\n",
    "\n",
    "def GCLCompuesto():\n",
    "    resta= 0\n",
    "    z = 0\n",
    "    for i in range(15):    \n",
    "    \n",
    "        arrZ1 = GCL1()\n",
    "        arrZ2 = GCL2()   \n",
    "    \n",
    "        resta = (arrZ1 - arrZ2) % m1\n",
    "        z = resta / m1        \n",
    "        print(z)\n",
    "\n",
    "        \n",
    "print(\"****************** Arreglo de resultados ******************\")\n",
    "GCLCompuesto()\n",
    "\n",
    "\n"
   ]
  },
  {
   "cell_type": "code",
   "execution_count": 53,
   "metadata": {},
   "outputs": [
    {
     "name": "stdout",
     "output_type": "stream",
     "text": [
      "2324278558\n"
     ]
    }
   ],
   "source": [
    "resta = (764073126364992-1299472809217680)%4294967087\n",
    "resta = resta % 4294967087\n",
    "print(resta)"
   ]
  }
 ],
 "metadata": {
  "kernelspec": {
   "display_name": "Python 3",
   "language": "python",
   "name": "python3"
  },
  "language_info": {
   "codemirror_mode": {
    "name": "ipython",
    "version": 3
   },
   "file_extension": ".py",
   "mimetype": "text/x-python",
   "name": "python",
   "nbconvert_exporter": "python",
   "pygments_lexer": "ipython3",
   "version": "3.7.3"
  }
 },
 "nbformat": 4,
 "nbformat_minor": 4
}
