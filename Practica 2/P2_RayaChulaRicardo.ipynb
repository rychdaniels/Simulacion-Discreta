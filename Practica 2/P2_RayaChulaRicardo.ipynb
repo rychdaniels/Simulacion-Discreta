{
 "cells": [
  {
   "cell_type": "code",
   "execution_count": 68,
   "metadata": {},
   "outputs": [
    {
     "name": "stdout",
     "output_type": "stream",
     "text": [
      "El valor de la sumatoria es  79481.0\n",
      "El promedio de espera es  30.324685234643265\n"
     ]
    }
   ],
   "source": [
    "import matplotlib.pyplot as plt\n",
    "import numpy as np\n",
    "# Genera numeros aleatorios\n",
    "import random\n",
    "\n",
    "# Representa la fila del banco\n",
    "cola_De_Espera = []\n",
    "# Será el aumento de tiempo del programa\n",
    "dt= 0.1\n",
    "llegada = []; #Llegadas de clientes\n",
    "salida = []; #Salidas de clientes\n",
    "intervalos_Clientes = []; #Se iran almacenando cada uno de los intervalos para cada cliente\n",
    "resta = 0;\n",
    "sumatoria = 0; #Suma de cada uno de los intervalos\n",
    "promedio_Espera = 0;\n",
    "\n",
    "\n",
    "# El while representa el horario del banco.\n",
    "while (dt <= 10000 or len(cola_De_Espera) > 0):\n",
    "    \n",
    "    #rA: Numero aleatorio para cuando llega un cliente\n",
    "    #rD: Numero aleatorio para cuando un cliente se va\n",
    "    if(len(cola_De_Espera) == 0): #Si es el primer cliente unicamente se genera una llegada\n",
    "        rA = np.random.uniform(0.0, 1.0)\n",
    "        rD = 0.5;\n",
    "    else:\n",
    "        rA = np.random.uniform(0.0, 1.0)        \n",
    "        rD = np.random.uniform(0.0, 1.0)\n",
    "        \n",
    "    \n",
    "    \n",
    "    \n",
    "    # Cuando llega un cliente\n",
    "    # Si el cliente es el primero que llega no se puede ir, ya que su dt = 0,\n",
    "    # es decir, no estaria ningun lapso de tiempo en el banco    \n",
    "    if(rA < 0.259):\n",
    "        #Numero aleatorio para cuando un cliente\n",
    "#         print(\"Llego un cliente en \",dt)\n",
    "        llegada.append(dt);\n",
    "        cola_De_Espera.append(1);\n",
    "        \n",
    "\n",
    "    #Cuando un cliente se va             \n",
    "    elif (rD < 0.393 and len(cola_De_Espera) > 0):\n",
    "#         print(\"Se fue un cliente en \", dt)\n",
    "        salida.append(dt);\n",
    "        \n",
    "        if(len(salida) > 0):\n",
    "            resta = salida[0] - llegada[0]\n",
    "            intervalos_Clientes.append(resta)\n",
    "            cola_De_Espera.pop(0);        \n",
    "            salida.pop(0);\n",
    "            llegada.pop(0);\n",
    "            sumatoria += resta;\n",
    "            resta = 0;\n",
    "            \n",
    "    #Aumentamos el tiempo del banco       \n",
    "    dt += 1;    \n",
    "    \n",
    "# print(len(cola_De_Espera))\n",
    "# print(len(intervalos_Clientes))\n",
    "\n",
    "promedio_Espera = sumatoria / len(intervalos_Clientes)\n",
    "# print(intervalos_Clientes)\n",
    "print(\"El valor de la sumatoria es \", sumatoria)\n",
    "print(\"El promedio de espera es \",promedio_Espera)\n",
    "    "
   ]
  },
  {
   "cell_type": "code",
   "execution_count": null,
   "metadata": {},
   "outputs": [],
   "source": []
  },
  {
   "cell_type": "code",
   "execution_count": null,
   "metadata": {},
   "outputs": [],
   "source": []
  }
 ],
 "metadata": {
  "kernelspec": {
   "display_name": "Python 3",
   "language": "python",
   "name": "python3"
  },
  "language_info": {
   "codemirror_mode": {
    "name": "ipython",
    "version": 3
   },
   "file_extension": ".py",
   "mimetype": "text/x-python",
   "name": "python",
   "nbconvert_exporter": "python",
   "pygments_lexer": "ipython3",
   "version": "3.7.3"
  }
 },
 "nbformat": 4,
 "nbformat_minor": 4
}
