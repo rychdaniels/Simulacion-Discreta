{
 "cells": [
  {
   "cell_type": "code",
   "execution_count": 91,
   "metadata": {},
   "outputs": [
    {
     "name": "stdout",
     "output_type": "stream",
     "text": [
      "Llego un cliente en  1\n",
      "Llego un cliente en  2\n",
      "Se fue un cliente en  3\n",
      "Llego un cliente en  4\n",
      "Llego un cliente en  5\n",
      "Llego un cliente en  10\n",
      "Llego un cliente en  14\n",
      "Llego un cliente en  15\n",
      "Llego un cliente en  17\n",
      "Llego un cliente en  22\n",
      "Llego un cliente en  23\n",
      "Llego un cliente en  33\n",
      "Se fue un cliente en  34\n",
      "Se fue un cliente en  35\n",
      "Se fue un cliente en  36\n",
      "Se fue un cliente en  37\n",
      "Se fue un cliente en  38\n",
      "Se fue un cliente en  39\n",
      "Se fue un cliente en  40\n",
      "Se fue un cliente en  41\n",
      "Se fue un cliente en  42\n",
      "Se fue un cliente en  43\n",
      "[1.0, 16.0, 15.5, 15.5, 13.5, 12.0, 12.0, 11.5, 9.5, 9.5, 5.0]\n"
     ]
    }
   ],
   "source": [
    "import matplotlib.pyplot as plt\n",
    "import numpy as np\n",
    "# Genera numeros aleatorios\n",
    "import random\n",
    "\n",
    "# Representa la fila del banco\n",
    "cola_De_Espera = []\n",
    "# Será el aumento de tiempo del programa\n",
    "dt= 1\n",
    "llegada = [];\n",
    "salida = [];\n",
    "lista_prom_Espera = [];\n",
    "promedio_Espera = 0;\n",
    "\n",
    "# El while representa el horario del banco.\n",
    "while (dt <= 2 or len(cola_De_Espera) > 0):\n",
    "    \n",
    "    #Numero aleatorio para cuando llega un cliente\n",
    "    rA = np.random.uniform(0.0, 1.0)\n",
    "    \n",
    "    #Cuando llega un cliente\n",
    "    if(rA < 0.259):\n",
    "        #Numero aleatorio para cuando un cliente\n",
    "        rD = np.random.uniform(0.0, 1.0)\n",
    "        print(\"Llego un cliente en \",dt)\n",
    "        llegada.append(dt);\n",
    "        cola_De_Espera.append(1);\n",
    "        \n",
    "\n",
    "    #Cuando un cliente se va             \n",
    "    elif (rD < 0.393 and len(cola_De_Espera) > 0):\n",
    "        print(\"Se fue un cliente en \", dt)\n",
    "        salida.append(dt);\n",
    "        \n",
    "        if(len(salida) > 0):\n",
    "            promedio_Espera = (salida[0] - llegada[0])/2\n",
    "            lista_prom_Espera.append(promedio_Espera)\n",
    "            cola_De_Espera.pop(0);        \n",
    "            salida.pop(0);\n",
    "            llegada.pop(0);\n",
    "            promedio_Espera = 0;\n",
    "            \n",
    "    #Aumentamos el tiempo del banco         \n",
    "    dt += 1;    \n",
    "    \n",
    "# print(len(cola_De_Espera))\n",
    "print(lista_prom_Espera)\n",
    "    "
   ]
  },
  {
   "cell_type": "code",
   "execution_count": null,
   "metadata": {},
   "outputs": [],
   "source": []
  },
  {
   "cell_type": "code",
   "execution_count": null,
   "metadata": {},
   "outputs": [],
   "source": []
  }
 ],
 "metadata": {
  "kernelspec": {
   "display_name": "Python 3",
   "language": "python",
   "name": "python3"
  },
  "language_info": {
   "codemirror_mode": {
    "name": "ipython",
    "version": 3
   },
   "file_extension": ".py",
   "mimetype": "text/x-python",
   "name": "python",
   "nbconvert_exporter": "python",
   "pygments_lexer": "ipython3",
   "version": "3.7.3"
  }
 },
 "nbformat": 4,
 "nbformat_minor": 4
}
