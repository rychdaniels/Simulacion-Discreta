{
 "cells": [
  {
   "cell_type": "code",
   "execution_count": 9,
   "metadata": {},
   "outputs": [
    {
     "data": {
      "image/png": "[encoded data removed]",
      "text/plain": [
       "<Figure size 432x288 with 1 Axes>"
      ]
     },
     "metadata": {
      "needs_background": "light"
     },
     "output_type": "display_data"
    },
    {
     "data": {
      "image/png": "[encoded data removed]",
      "text/plain": [
       "<Figure size 432x288 with 1 Axes>"
      ]
     },
     "metadata": {
      "needs_background": "light"
     },
     "output_type": "display_data"
    }
   ],
   "source": [
    "import matplotlib.pyplot as plt\n",
    "import numpy as np\n",
    "import random # Genera numeros aleatorios\n",
    "\n",
    "\n",
    "cola_De_Espera = [] # Representa la fila del banco\n",
    "llegada = []; #Llegadas de clientes\n",
    "salida = []; #Salidas de clientes\n",
    "intervalos_Clientes = []; #Se iran almacenando cada uno de los intervalos para cada cliente\n",
    "arr_Prom_Espera = []; #Alamcena los promedios de espera de todas las simulaciones\n",
    "arr_Intervalos = []; #Guarda el valor de la variable intervalos para cada simulacion\n",
    "arr_Prom_Sistema = []\n",
    "\n",
    "def simulacion(iteraciones):\n",
    "    contador = 0 #Contador de iteraciones\n",
    "    contador_Clientes = 0; #Contador de clientes en el sistema\n",
    "    clientes_Sistema = 0; #Guarda el promedio de clientes en el sistema\n",
    "    arr_Intervalos.append(iteraciones)\n",
    "    dt= 0 # Será el aumento de tiempo del programa\n",
    "    estancia = 0; #Guarda la diferencia del tiempo de salida menos el tiempo de llegada\n",
    "    sumatoria = 0; #Suma de cada uno de los intervalos\n",
    "    promedio_Espera = 0; #Almacena el promedio de espera a lo largo de la simulacion\n",
    "    estado = 0;\n",
    "    \n",
    "    # El while representa el horario del banco\n",
    "    while (dt < iteraciones or len(cola_De_Espera) > 0):\n",
    "        \n",
    "        #rA: Numero aleatorio para cuando llega un cliente\n",
    "        #rD: Numero aleatorio para cuando un cliente se va\n",
    "        rA = np.random.uniform(0.0, 1.0)                            \n",
    "        rD = np.random.uniform(0.0, 1.0)            \n",
    "        \n",
    "        # Si es el primer cliente que llega: Sólo generamos una salida         \n",
    "        if(len(cola_De_Espera) == 0):\n",
    "            rD = 0.5      \n",
    "            \n",
    "        \n",
    "        # Cuando llega un cliente\n",
    "        # Si el cliente es el primero que llega no se puede ir, ya que su dt = 0,\n",
    "        # es decir, no estaria ningun lapso de tiempo en el banco    \n",
    "        if(rA < 0.259):\n",
    "            #Numero aleatorio para cuando un cliente            \n",
    "            llegada.append(dt) #Alamceamos la llegada en el tiempo dt\n",
    "            cola_De_Espera.append(1)# Formamos al cliente en la fila            \n",
    "            contador_Clientes += 1 #Aumentamos el contador que nos servirá para calcula el promedio de espera\n",
    "\n",
    "\n",
    "        #Cuando un cliente se va             \n",
    "        if (rD < 0.393 and len(cola_De_Espera) >= 0):            \n",
    "            salida.append(dt); #Almacenamos el tiempo de salida\n",
    "            if(len(salida) > 0):# Comprobamos que haya a quien sacar de la fila \n",
    "                estancia = salida[0] - llegada[0]  #Calculamos el tiempo de estancia del cliente\n",
    "                intervalos_Clientes.append(estancia) #Almacenamos las estancias que se ocuparan para calcular el promedio de espera\n",
    "                cola_De_Espera.pop(0); #Sacamos al cliente que acaba de dejar el banco       \n",
    "                salida.pop(0); #Quitamos el tiempo de salida de la lista\n",
    "                llegada.pop(0);#Quitamos el tiempo de llegada de la lista\n",
    "                sumatoria += estancia; #Sumamos todas las estancias de cada uno de los clientes\n",
    "                estancia = 0; #Reiniciamos la estancia para otro cliente\n",
    "            \n",
    "        \n",
    "        \n",
    "        \n",
    "        dt += 0.1; #Aumentamos el tiempo del banco      \n",
    "        clientes_Sistema += len(cola_De_Espera) #Calculamos los clientes en el sistema en cada iteracion\n",
    "        contador += 1 #Aumentamos el contador de iteraciones\n",
    "    \n",
    "    promedioClientesSistema = clientes_Sistema / contador  #Guarda el promedio de los cliente en el sistema\n",
    "    promedio_Espera = sumatoria / contador_Clientes #Guarda el promedio de espera de los clientes\n",
    "    arr_Prom_Espera.append(promedio_Espera) #Guarda todos los promedios de espera\n",
    "    arr_Prom_Sistema.append(promedioClientesSistema) #Guarda todos los promedios de clientes en el sistema\n",
    "        \n",
    "\n",
    "\n",
    "def dibujaGrafica(numIntervalos, arr_Prom_Espera):\n",
    "    plt.xlabel(\"Numero Total de Clientes\")\n",
    "    plt.ylabel(\"Promedio de Espera\")\n",
    "    plt.plot(numIntervalos, arr_Prom_Espera)\n",
    "    plt.show()\n",
    "\n",
    "#Grafica de promedio de clientes en la fila\n",
    "def dibujaGraficaDos(numIntervalos, arr_Prom_Sistema):\n",
    "    plt.xlabel(\"Intervalos\")\n",
    "    plt.ylabel(\"Promedio de Usuario Fila\")\n",
    "    plt.plot(numIntervalos, arr_Prom_Sistema)\n",
    "    plt.show()\n",
    "    \n",
    "\n",
    "simulacion(20)\n",
    "simulacion(80)\n",
    "simulacion(160)\n",
    "simulacion(250)\n",
    "simulacion(350)\n",
    "simulacion(700)\n",
    "simulacion(1000)\n",
    "simulacion(2000)\n",
    "simulacion(3000)\n",
    "simulacion(8000)\n",
    "\n",
    "# Dibuja la grafica del promedio de espera de los clientes\n",
    "dibujaGrafica(arr_Intervalos, arr_Prom_Espera)\n",
    "\n",
    "#Grafica de promedio de clientes en la fila\n",
    "dibujaGraficaDos(arr_Intervalos, arr_Prom_Sistema)\n",
    "\n"
   ]
  },
  {
   "cell_type": "code",
   "execution_count": null,
   "metadata": {},
   "outputs": [],
   "source": []
  },
  {
   "cell_type": "code",
   "execution_count": null,
   "metadata": {},
   "outputs": [],
   "source": []
  },
  {
   "cell_type": "code",
   "execution_count": null,
   "metadata": {},
   "outputs": [],
   "source": []
  },
  {
   "cell_type": "code",
   "execution_count": null,
   "metadata": {},
   "outputs": [],
   "source": []
  },
  {
   "cell_type": "code",
   "execution_count": null,
   "metadata": {},
   "outputs": [],
   "source": [
    "\n"
   ]
  }
 ],
 "metadata": {
  "kernelspec": {
   "display_name": "Python 3",
   "language": "python",
   "name": "python3"
  },
  "language_info": {
   "codemirror_mode": {
    "name": "ipython",
    "version": 3
   },
   "file_extension": ".py",
   "mimetype": "text/x-python",
   "name": "python",
   "nbconvert_exporter": "python",
   "pygments_lexer": "ipython3",
   "version": "3.7.3"
  }
 },
 "nbformat": 4,
 "nbformat_minor": 4
}
